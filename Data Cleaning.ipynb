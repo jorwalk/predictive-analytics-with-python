{
 "cells": [
  {
   "cell_type": "markdown",
   "metadata": {},
   "source": [
    "# Data Cleaning\n",
    "## Become familiar with: \n",
    "* Handling various kind of data importing scenarios that is importing various kind of datasets (.csv, .txt), different kind of delimiters (comma, tab, pipe), and different methods (read_csv, read_table)\n",
    "* Getting basic information, such as dimensions, column names, and statistics summary\n",
    "* Getting basic data cleaning done that is removing NAs and blank spaces, imputing values to missing data points, changing a variable type, and so on\n",
    "* Creating dummy variables in various scenarios to aid modelling\n",
    "* Generating simple plots like scatter plots, bar charts, histograms, box plots, and so on\n",
    "# Outline\n",
    "## Reading the data – variations and examples\n",
    "### Data frames\n",
    "### Delimiters \n",
    "## Various methods of importing data in Python\n",
    "### Case 1 – reading a dataset using the read_csv method\n",
    "#### The read_csv method\n",
    "#### Use cases of the read_csv method\n",
    "#### Passing the directory address and filename as variables\n",
    "#### Reading a .txt dataset with a comma delimiter\n",
    "#### Specifying the column names of a dataset from a list\n",
    "### Case 2 – reading a dataset using the open method of Python\n",
    "#### Reading a dataset line by line\n",
    "#### Changing the delimiter of a dataset\n",
    "### Case 3 – reading data from a URL \n",
    "### Case 4 – miscellaneous cases\n",
    "#### Reading from an .xls or .xlsx file\n",
    "#### Writing to a CSV or Excel file\n",
    "### Basics – summary, dimensions, and structure\n",
    "### Handling missing values\n",
    "### Checking for missing values\n",
    "### How missing values are generated and propagated\n",
    "### Treating missing values\n",
    "#### Deletion\n",
    "#### Imputation\n",
    "### Creating dummy variables\n",
    "### Visualizing a dataset by basic plotting\n",
    "### Scatter plots"
   ]
  },
  {
   "cell_type": "markdown",
   "metadata": {},
   "source": []
  }
 ],
 "metadata": {
  "kernelspec": {
   "display_name": "Python [default]",
   "language": "python",
   "name": "python3"
  },
  "language_info": {
   "codemirror_mode": {
    "name": "ipython",
    "version": 3
   },
   "file_extension": ".py",
   "mimetype": "text/x-python",
   "name": "python",
   "nbconvert_exporter": "python",
   "pygments_lexer": "ipython3",
   "version": "3.5.2"
  }
 },
 "nbformat": 4,
 "nbformat_minor": 2
}
